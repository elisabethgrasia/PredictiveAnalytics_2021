{
 "cells": [
  {
   "cell_type": "markdown",
   "id": "93bffb34",
   "metadata": {},
   "source": [
    "The following declaration must be included in a clearly visible and readable place on the first page of the report.\n",
    "——————————————————————\n",
    "\n",
    "\n",
    "By including this statement, we the authors of this work, verify that:\n",
    "I hold a copy of this assignment that we can produce if the original is lost or damaged.\n",
    "I hereby certify that no part of this assignment/product has been copied from any other student’s work or from any other source except where due acknowledgement is made in the assignment.\n",
    "No part of this assignment/product has been written/produced for us by another person except where such collaboration has been authorised by the subject lecturer/tutor concerned.\n",
    "I am aware that this work may be reproduced and submitted to plagiarism detection software programs for the purpose of detecting possible plagiarism (which may retain a copy on its database for future plagiarism checking).\n",
    "I hereby certify that we have read and understand what the School of Computer, Data and Mathematical Sciences defines as minor and substantial breaches of misconduct as outlined in the learning guide for this unit."
   ]
  },
  {
   "cell_type": "markdown",
   "id": "be75fc49",
   "metadata": {},
   "source": [
    "Question 1 - Linear Regression"
   ]
  },
  {
   "cell_type": "markdown",
   "id": "c8c39225",
   "metadata": {},
   "source": [
    "The given data is about wine quality. As mentioned in the question sheet, there are 11 objective\n",
    "tests and one subjective variable based. The first question is aiming to predict the alcohol level of each wine by linear regression modelling."
   ]
  },
  {
   "cell_type": "markdown",
   "id": "452e180d",
   "metadata": {},
   "source": [
    "As usual, we need to import the compulsory functions before start."
   ]
  },
  {
   "cell_type": "code",
   "execution_count": 3,
   "id": "0eb8b574",
   "metadata": {},
   "outputs": [],
   "source": [
    "import numpy as np\n",
    "import pandas\n",
    "import matplotlib.pyplot as plt\n",
    "%matplotlib inline\n",
    "import rfpimp\n",
    "from sklearn.ensemble import RandomForestRegressor"
   ]
  },
  {
   "cell_type": "markdown",
   "id": "2514a77b",
   "metadata": {},
   "source": [
    "In the beginning of this process, we need to import the data and then screening about that data."
   ]
  },
  {
   "cell_type": "code",
   "execution_count": 4,
   "id": "8db75f30",
   "metadata": {},
   "outputs": [
    {
     "data": {
      "text/plain": [
       "(4898, 12)"
      ]
     },
     "execution_count": 4,
     "metadata": {},
     "output_type": "execute_result"
    }
   ],
   "source": [
    "wine = pandas.read_csv(\"winequality-white.csv\", delimiter = \";\")\n",
    "wine.describe()\n",
    "wine.shape"
   ]
  },
  {
   "cell_type": "code",
   "execution_count": 5,
   "id": "65d7a77b",
   "metadata": {},
   "outputs": [
    {
     "data": {
      "text/html": [
       "<div>\n",
       "<style scoped>\n",
       "    .dataframe tbody tr th:only-of-type {\n",
       "        vertical-align: middle;\n",
       "    }\n",
       "\n",
       "    .dataframe tbody tr th {\n",
       "        vertical-align: top;\n",
       "    }\n",
       "\n",
       "    .dataframe thead th {\n",
       "        text-align: right;\n",
       "    }\n",
       "</style>\n",
       "<table border=\"1\" class=\"dataframe\">\n",
       "  <thead>\n",
       "    <tr style=\"text-align: right;\">\n",
       "      <th></th>\n",
       "      <th>fixed acidity</th>\n",
       "      <th>volatile acidity</th>\n",
       "      <th>citric acid</th>\n",
       "      <th>residual sugar</th>\n",
       "      <th>chlorides</th>\n",
       "      <th>free sulfur dioxide</th>\n",
       "      <th>total sulfur dioxide</th>\n",
       "      <th>density</th>\n",
       "      <th>pH</th>\n",
       "      <th>sulphates</th>\n",
       "      <th>alcohol</th>\n",
       "      <th>quality</th>\n",
       "    </tr>\n",
       "  </thead>\n",
       "  <tbody>\n",
       "    <tr>\n",
       "      <th>0</th>\n",
       "      <td>7.0</td>\n",
       "      <td>0.27</td>\n",
       "      <td>0.36</td>\n",
       "      <td>20.7</td>\n",
       "      <td>0.045</td>\n",
       "      <td>45.0</td>\n",
       "      <td>170.0</td>\n",
       "      <td>1.0010</td>\n",
       "      <td>3.00</td>\n",
       "      <td>0.45</td>\n",
       "      <td>8.8</td>\n",
       "      <td>6</td>\n",
       "    </tr>\n",
       "    <tr>\n",
       "      <th>1</th>\n",
       "      <td>6.3</td>\n",
       "      <td>0.30</td>\n",
       "      <td>0.34</td>\n",
       "      <td>1.6</td>\n",
       "      <td>0.049</td>\n",
       "      <td>14.0</td>\n",
       "      <td>132.0</td>\n",
       "      <td>0.9940</td>\n",
       "      <td>3.30</td>\n",
       "      <td>0.49</td>\n",
       "      <td>9.5</td>\n",
       "      <td>6</td>\n",
       "    </tr>\n",
       "    <tr>\n",
       "      <th>2</th>\n",
       "      <td>8.1</td>\n",
       "      <td>0.28</td>\n",
       "      <td>0.40</td>\n",
       "      <td>6.9</td>\n",
       "      <td>0.050</td>\n",
       "      <td>30.0</td>\n",
       "      <td>97.0</td>\n",
       "      <td>0.9951</td>\n",
       "      <td>3.26</td>\n",
       "      <td>0.44</td>\n",
       "      <td>10.1</td>\n",
       "      <td>6</td>\n",
       "    </tr>\n",
       "    <tr>\n",
       "      <th>3</th>\n",
       "      <td>7.2</td>\n",
       "      <td>0.23</td>\n",
       "      <td>0.32</td>\n",
       "      <td>8.5</td>\n",
       "      <td>0.058</td>\n",
       "      <td>47.0</td>\n",
       "      <td>186.0</td>\n",
       "      <td>0.9956</td>\n",
       "      <td>3.19</td>\n",
       "      <td>0.40</td>\n",
       "      <td>9.9</td>\n",
       "      <td>6</td>\n",
       "    </tr>\n",
       "    <tr>\n",
       "      <th>4</th>\n",
       "      <td>7.2</td>\n",
       "      <td>0.23</td>\n",
       "      <td>0.32</td>\n",
       "      <td>8.5</td>\n",
       "      <td>0.058</td>\n",
       "      <td>47.0</td>\n",
       "      <td>186.0</td>\n",
       "      <td>0.9956</td>\n",
       "      <td>3.19</td>\n",
       "      <td>0.40</td>\n",
       "      <td>9.9</td>\n",
       "      <td>6</td>\n",
       "    </tr>\n",
       "  </tbody>\n",
       "</table>\n",
       "</div>"
      ],
      "text/plain": [
       "   fixed acidity  volatile acidity  citric acid  residual sugar  chlorides  \\\n",
       "0            7.0              0.27         0.36            20.7      0.045   \n",
       "1            6.3              0.30         0.34             1.6      0.049   \n",
       "2            8.1              0.28         0.40             6.9      0.050   \n",
       "3            7.2              0.23         0.32             8.5      0.058   \n",
       "4            7.2              0.23         0.32             8.5      0.058   \n",
       "\n",
       "   free sulfur dioxide  total sulfur dioxide  density    pH  sulphates  \\\n",
       "0                 45.0                 170.0   1.0010  3.00       0.45   \n",
       "1                 14.0                 132.0   0.9940  3.30       0.49   \n",
       "2                 30.0                  97.0   0.9951  3.26       0.44   \n",
       "3                 47.0                 186.0   0.9956  3.19       0.40   \n",
       "4                 47.0                 186.0   0.9956  3.19       0.40   \n",
       "\n",
       "   alcohol  quality  \n",
       "0      8.8        6  \n",
       "1      9.5        6  \n",
       "2     10.1        6  \n",
       "3      9.9        6  \n",
       "4      9.9        6  "
      ]
     },
     "execution_count": 5,
     "metadata": {},
     "output_type": "execute_result"
    }
   ],
   "source": [
    "wine.head()"
   ]
  },
  {
   "cell_type": "markdown",
   "id": "18f6a15b",
   "metadata": {},
   "source": [
    "After reading the data, we will make a regression model using the 11 features of dataset (ignore about the quality). The purpose of the model prediction is predicting alcohol level from other 10 independent variables. Regarding to the amount of independent variables consideration, the model prediction will be called Multiple Linear Regression. "
   ]
  },
  {
   "cell_type": "markdown",
   "id": "376ce36a",
   "metadata": {},
   "source": [
    "The data preparation step starts by dividing the X values and y-value from the datasets."
   ]
  },
  {
   "cell_type": "code",
   "execution_count": 6,
   "id": "75e06e1a",
   "metadata": {},
   "outputs": [],
   "source": [
    "X = wine.drop(['quality', 'alcohol'], axis=1).to_numpy()\n",
    "y = np.c_[wine['alcohol']]"
   ]
  },
  {
   "cell_type": "markdown",
   "id": "32856b1c",
   "metadata": {},
   "source": [
    "Once the X-values and y value is ready, then we divide the data into training data and test data. The purpose is using training data to create the model and test data to validate the model."
   ]
  },
  {
   "cell_type": "code",
   "execution_count": 19,
   "id": "a44c3da7",
   "metadata": {},
   "outputs": [
    {
     "name": "stdout",
     "output_type": "stream",
     "text": [
      "(3183, 10) (1715, 10) (3183, 1) (1715, 1)\n"
     ]
    }
   ],
   "source": [
    "import sklearn.model_selection as model_selection\n",
    "X_train, X_test, y_train, y_test = model_selection.train_test_split(X, y, train_size=0.65,test_size=0.35, random_state=101)\n",
    "print(X_train.shape, X_test.shape, y_train.shape, y_test.shape)"
   ]
  },
  {
   "cell_type": "markdown",
   "id": "5bf1c683",
   "metadata": {},
   "source": [
    "Once we divide the data, then start to create the model. First, we use the linear model by sklearn as below."
   ]
  },
  {
   "cell_type": "code",
   "execution_count": 10,
   "id": "0912a501",
   "metadata": {},
   "outputs": [
    {
     "name": "stdout",
     "output_type": "stream",
     "text": [
      "The parameters from this model are: intercept [690.85806938]  and slope [[ 5.21028169e-01  8.50380494e-01  3.72103520e-01  2.42699616e-01\n",
      "  -2.02294678e-01 -3.46061320e-03  6.47187389e-04 -6.98303041e+02\n",
      "   2.46091328e+00  1.02214762e+00]]\n"
     ]
    }
   ],
   "source": [
    "# creating linear model by sklearn\n",
    "from sklearn.linear_model import LinearRegression\n",
    "lin_reg = LinearRegression()\n",
    "lin_reg.fit(X,y)\n",
    "\n",
    "print(\"The parameters from this model are: intercept\", lin_reg.intercept_,\" and slope\", lin_reg.coef_)"
   ]
  },
  {
   "cell_type": "markdown",
   "id": "9618ecaa",
   "metadata": {},
   "source": [
    "After we get the model, we need to test the accuracy of the model."
   ]
  },
  {
   "cell_type": "code",
   "execution_count": 16,
   "id": "11bc48bf",
   "metadata": {},
   "outputs": [
    {
     "name": "stdout",
     "output_type": "stream",
     "text": [
      "The accuracy of training data is:  0.9015718937089648 and the accuracy of test data is: 0.8118696202487744\n",
      "The MSE from the model is 0.2843025410947639 and the R2 is 0.8118696202487744\n"
     ]
    }
   ],
   "source": [
    "# Accuracy checking training and test data\n",
    "a = lin_reg.score(X_train, y_train)\n",
    "b = lin_reg.score(X_test, y_test)\n",
    "print(\"The accuracy of training data is: \", a, \"and the accuracy of test data is:\", b)\n",
    "\n",
    "# is it a good model?\n",
    "from sklearn.metrics import mean_squared_error\n",
    "ypred = lin_reg.predict(X_test)\n",
    "mean = mean_squared_error(y_test, ypred)\n",
    "from sklearn.metrics import r2_score\n",
    "r2 = r2_score(y_test, lin_reg.predict(X_test))\n",
    "print(\"The MSE from the model is\", mean, \"and the R2 is\", r2)"
   ]
  },
  {
   "cell_type": "markdown",
   "id": "aff7cb43",
   "metadata": {},
   "source": [
    "It is a quite good model as the MSE is quite low and the R2 is 0.812. "
   ]
  },
  {
   "cell_type": "markdown",
   "id": "bdf3554e",
   "metadata": {},
   "source": [
    "The second type of method that we use to create the linear model is by using Stochastic Gradient Descent (SGD)."
   ]
  },
  {
   "cell_type": "code",
   "execution_count": 23,
   "id": "f8dcc8f0",
   "metadata": {},
   "outputs": [
    {
     "ename": "ValueError",
     "evalue": "shapes (3183,10) and (2,1) not aligned: 10 (dim 1) != 2 (dim 0)",
     "output_type": "error",
     "traceback": [
      "\u001b[1;31m---------------------------------------------------------------------------\u001b[0m",
      "\u001b[1;31mValueError\u001b[0m                                Traceback (most recent call last)",
      "\u001b[1;32m~\\AppData\\Local\\Temp/ipykernel_11652/1105711610.py\u001b[0m in \u001b[0;36m<module>\u001b[1;34m\u001b[0m\n\u001b[0;32m     14\u001b[0m         \u001b[0mxi\u001b[0m \u001b[1;33m=\u001b[0m \u001b[0mX\u001b[0m\u001b[1;33m[\u001b[0m\u001b[0mrandom_index\u001b[0m\u001b[1;33m:\u001b[0m\u001b[0mrandom_index\u001b[0m\u001b[1;33m+\u001b[0m\u001b[1;36m1\u001b[0m\u001b[1;33m]\u001b[0m\u001b[1;33m\u001b[0m\u001b[1;33m\u001b[0m\u001b[0m\n\u001b[0;32m     15\u001b[0m         \u001b[0myi\u001b[0m \u001b[1;33m=\u001b[0m \u001b[0my\u001b[0m\u001b[1;33m[\u001b[0m\u001b[0mrandom_index\u001b[0m\u001b[1;33m:\u001b[0m\u001b[0mrandom_index\u001b[0m\u001b[1;33m+\u001b[0m\u001b[1;36m1\u001b[0m\u001b[1;33m]\u001b[0m\u001b[1;33m\u001b[0m\u001b[1;33m\u001b[0m\u001b[0m\n\u001b[1;32m---> 16\u001b[1;33m         \u001b[0mgradients\u001b[0m \u001b[1;33m=\u001b[0m  \u001b[0mX_train\u001b[0m\u001b[1;33m.\u001b[0m\u001b[0mT\u001b[0m\u001b[1;33m.\u001b[0m\u001b[0mdot\u001b[0m\u001b[1;33m(\u001b[0m\u001b[0mX_train\u001b[0m\u001b[1;33m.\u001b[0m\u001b[0mdot\u001b[0m\u001b[1;33m(\u001b[0m\u001b[0mw\u001b[0m\u001b[1;33m)\u001b[0m \u001b[1;33m-\u001b[0m \u001b[0my_train\u001b[0m\u001b[1;33m)\u001b[0m\u001b[1;33m\u001b[0m\u001b[1;33m\u001b[0m\u001b[0m\n\u001b[0m\u001b[0;32m     17\u001b[0m         \u001b[0mw\u001b[0m \u001b[1;33m-=\u001b[0m \u001b[0meta\u001b[0m \u001b[1;33m*\u001b[0m \u001b[0mgradients\u001b[0m\u001b[1;33m\u001b[0m\u001b[1;33m\u001b[0m\u001b[0m\n\u001b[0;32m     18\u001b[0m \u001b[1;33m\u001b[0m\u001b[0m\n",
      "\u001b[1;31mValueError\u001b[0m: shapes (3183,10) and (2,1) not aligned: 10 (dim 1) != 2 (dim 0)"
     ]
    }
   ],
   "source": [
    "# Stochastic Gradient Descent (SGD)\n",
    "eta = 0.1\n",
    "n_epoch = 50\n",
    "np.random.seed(42)\n",
    "w = np.random.randn(2,1)\n",
    "\n",
    "import timeit\n",
    "start = timeit.default_timer()\n",
    "\n",
    "# outer loop\n",
    "for epoch in range(n_epoch):\n",
    "    for i in range(len(y_train)):\n",
    "        random_index = np.random.randint(len(y_train))\n",
    "        xi = X[random_index:random_index+1]\n",
    "        yi = y[random_index:random_index+1]\n",
    "        gradients =  X_train.T.dot(X_train.dot(w) - y_train)\n",
    "        w -= eta * gradients\n",
    "\n",
    "stop = timeit.default_timer()\n",
    "print(\"Time to run: \", stop-start)"
   ]
  },
  {
   "cell_type": "code",
   "execution_count": null,
   "id": "8415b5e3",
   "metadata": {},
   "outputs": [],
   "source": [
    "n_epochs = 50\n",
    "t0, t1 = 5, 50 # learning schedule hyperparameters\n",
    "\n",
    "def learning_schedule(t):\n",
    "    return t0 / (t + t1)\n",
    "\n",
    "np.random.seed(42)\n",
    "w = np.random.randn(2,1) # random initialization\n",
    "nShow = 20 # showing first 20 steps\n",
    "plt.plot(X, y, \"b.\") # plotting the data\n",
    "\n",
    "cmap = mpl.cm.Blues(np.linspace(0, 1, nShow)) # colour settings\n",
    "\n",
    "# keep track of changing eta\n",
    "w_path_sgd = []\n",
    "eta_path_sgd = []\n",
    "\n",
    "for epoch in range(n_epochs):\n",
    "    for i in range(nSamples):\n",
    "        if epoch == 0 and i < nShow:\n",
    "            y_predict = X_new_m.dot(w)\n",
    "            lstyle = \"-\" if i > 0 else \"--\"\n",
    "            cstyle = cmap[i,:] if i > 0 else 'r'\n",
    "            plt.plot(X_new, y_predict, linestyle=lstyle, color=cstyle)\n",
    "        random_index = np.random.randint(nSamples)\n",
    "        xi = X_m[random_index:random_index+1]   # so we have a matrix for the one value\n",
    "        yi = y[random_index:random_index+1]\n",
    "        gradients = 2 * xi.T.dot(xi.dot(w) - yi)\n",
    "        eta = learning_schedule(epoch * nSamples + i)\n",
    "        w = w - eta * gradients\n",
    "        w_path_sgd.append(w)\n",
    "        eta_path_sgd.append(eta)\n",
    "\n",
    "# final solution\n",
    "y_predict = X_new_m.dot(w)\n",
    "plt.plot(X_new, y_predict, linestyle=\"--\", color ='xkcd:purple', linewidth=2)\n",
    "\n",
    "# the other plotty bits\n",
    "plt.xlabel(\"x_1\", fontsize = 18)\n",
    "plt.ylabel(\"$y$\", rotation = 0, fontsize=18)\n",
    "plt.axis([0, 2, 0, 15])\n",
    "plt.show()\n",
    "\n",
    "# final values\n",
    "w\n",
    "\n",
    "# zoomed in version\n",
    "plt.plot(X, y, \"b. \")\n",
    "for i in np.arange(1,20):\n",
    "    w = w_path_sgd[i]\n",
    "    y_predict = X_new_m.dot(w)\n",
    "    cstyle = cmap[i,:]\n",
    "    plt.plot(X_new, y_predict, linestyle='-', color=cstyle)\n",
    "plt.xlabel(\"x_1\", fontsize=18)\n",
    "plt.ylabel(\"$y$\", rotation = 0, fontsize=18)\n",
    "plt.axis([1.25, 1.5, 7.25, 8.5])\n",
    "plt.show()\n",
    "\n",
    "# plot the change in eta values:\n",
    "plt.plot(np.arange(0,100,5), eta_path_sgd[0:100:5])\n",
    "plt.plot(np.arange(0,100,5), eta_path_sgd[0:100:5], 'b*')\n",
    "plt.xlabel(\"Step number\")\n",
    "plt.ylabel(\"$\\eta$ values\")\n",
    "plt.title(\"Change in $\\eta$ over epoch 1 of SGD\")\n",
    "plt.show()\n"
   ]
  },
  {
   "cell_type": "code",
   "execution_count": null,
   "id": "2caf83b0",
   "metadata": {},
   "outputs": [],
   "source": []
  }
 ],
 "metadata": {
  "kernelspec": {
   "display_name": "Python 3 (ipykernel)",
   "language": "python",
   "name": "python3"
  },
  "language_info": {
   "codemirror_mode": {
    "name": "ipython",
    "version": 3
   },
   "file_extension": ".py",
   "mimetype": "text/x-python",
   "name": "python",
   "nbconvert_exporter": "python",
   "pygments_lexer": "ipython3",
   "version": "3.7.11"
  }
 },
 "nbformat": 4,
 "nbformat_minor": 5
}
