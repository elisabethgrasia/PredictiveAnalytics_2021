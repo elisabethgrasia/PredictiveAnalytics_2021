{
 "cells": [
  {
   "cell_type": "markdown",
   "id": "33e427e4",
   "metadata": {},
   "source": [
    "Data Preprocessing\n",
    "\n",
    "\n",
    "As usual, before we start we have to import the usual code"
   ]
  },
  {
   "cell_type": "code",
   "execution_count": 1,
   "id": "152d45d6",
   "metadata": {},
   "outputs": [],
   "source": [
    "# Common imports\n",
    "import numpy as np\n",
    "import os\n",
    "import pandas as pd\n",
    "\n",
    "# To plot pretty figures\n",
    "%matplotlib inline\n",
    "import matplotlib as mpl\n",
    "import matplotlib.pyplot as plt\n",
    "mpl.rc('axes', labelsize=14)\n",
    "mpl.rc('xtick', labelsize=12)\n",
    "mpl.rc('ytick', labelsize=12)\n",
    "\n",
    "np.random.seed(47)\n",
    "\n",
    "#Common imports for PCA: \n",
    "# SVM related\n",
    "from sklearn.svm import LinearSVC\n",
    "from sklearn.svm import SVC\n",
    "from sklearn.linear_model import SGDClassifier\n",
    "\n",
    "# PCA\n",
    "from sklearn.decomposition import PCA\n",
    "from sklearn import preprocessing\n",
    "\n",
    "# preprocessing\n",
    "from sklearn.preprocessing import StandardScaler"
   ]
  },
  {
   "cell_type": "code",
   "execution_count": 2,
   "id": "f1bfe278",
   "metadata": {},
   "outputs": [
    {
     "name": "stdout",
     "output_type": "stream",
     "text": [
      "(839714, 31)\n"
     ]
    },
    {
     "name": "stderr",
     "output_type": "stream",
     "text": [
      "c:\\users\\alvak\\anaconda3\\envs\\projecta\\lib\\site-packages\\IPython\\core\\interactiveshell.py:3441: DtypeWarning: Columns (0,10,15,16,23,24) have mixed types.Specify dtype option on import or set low_memory=False.\n",
      "  exec(code_obj, self.user_global_ns, self.user_ns)\n"
     ]
    }
   ],
   "source": [
    "Asteroid= pd.read_csv('Asteroid_Updated.csv')\n",
    "df = Asteroid\n",
    "temp = df\n",
    "\n",
    "print(temp.shape)"
   ]
  },
  {
   "cell_type": "code",
   "execution_count": 3,
   "id": "433a6572",
   "metadata": {},
   "outputs": [
    {
     "name": "stdout",
     "output_type": "stream",
     "text": [
      "Nan in columns after removing nan in names \n",
      " name                  0\n",
      "a                     0\n",
      "e                     0\n",
      "i                     0\n",
      "om                    0\n",
      "w                     0\n",
      "q                     0\n",
      "ad                    1\n",
      "per_y                 1\n",
      "data_arc              0\n",
      "condition_code        2\n",
      "n_obs_used            0\n",
      "H                     0\n",
      "neo                   1\n",
      "pha                   0\n",
      "diameter           6843\n",
      "extent            21950\n",
      "albedo             6863\n",
      "rot_per           15680\n",
      "GM                21954\n",
      "BV                20949\n",
      "UB                20991\n",
      "IR                21966\n",
      "spec_B            20583\n",
      "spec_T            20991\n",
      "G                 21850\n",
      "moid                  0\n",
      "class                 0\n",
      "n                     0\n",
      "per                   1\n",
      "ma                    0\n",
      "dtype: int64\n"
     ]
    }
   ],
   "source": [
    "aaa=pd.isnull(df['name'])\n",
    "name_indices_nan = np.where(np.asarray(aaa)==True)[0]\n",
    "processed_dataframe= temp.drop(name_indices_nan)\n",
    "\n",
    "print(\"Nan in columns after removing nan in names \\n\",processed_dataframe.isnull().sum())"
   ]
  },
  {
   "cell_type": "code",
   "execution_count": 4,
   "id": "954ec662",
   "metadata": {},
   "outputs": [
    {
     "name": "stdout",
     "output_type": "stream",
     "text": [
      "Nan in columns after removing some columns \n",
      " name                 0\n",
      "a                    0\n",
      "e                    0\n",
      "i                    0\n",
      "om                   0\n",
      "w                    0\n",
      "q                    0\n",
      "ad                   1\n",
      "per_y                1\n",
      "data_arc             0\n",
      "condition_code       2\n",
      "n_obs_used           0\n",
      "H                    0\n",
      "neo                  1\n",
      "pha                  0\n",
      "diameter          6843\n",
      "albedo            6863\n",
      "moid                 0\n",
      "class                0\n",
      "n                    0\n",
      "per                  1\n",
      "ma                   0\n",
      "dtype: int64\n"
     ]
    }
   ],
   "source": [
    "for column in processed_dataframe:\n",
    "    if processed_dataframe[column].isnull().sum() > 8000:\n",
    "        processed_dataframe= processed_dataframe.drop([column], axis=1)\n",
    "          \n",
    "print(\"Nan in columns after removing some columns \\n\",processed_dataframe.isnull().sum())"
   ]
  },
  {
   "cell_type": "code",
   "execution_count": 5,
   "id": "6b26d993",
   "metadata": {},
   "outputs": [
    {
     "name": "stdout",
     "output_type": "stream",
     "text": [
      "Nan in columns after removing rows \n",
      " name              0\n",
      "a                 0\n",
      "e                 0\n",
      "i                 0\n",
      "om                0\n",
      "w                 0\n",
      "q                 0\n",
      "ad                0\n",
      "per_y             0\n",
      "data_arc          0\n",
      "condition_code    0\n",
      "n_obs_used        0\n",
      "H                 0\n",
      "neo               0\n",
      "pha               0\n",
      "diameter          0\n",
      "albedo            0\n",
      "moid              0\n",
      "class             0\n",
      "n                 0\n",
      "per               0\n",
      "ma                0\n",
      "dtype: int64\n"
     ]
    }
   ],
   "source": [
    "for column in processed_dataframe:\n",
    "    if processed_dataframe[column].isnull().any():\n",
    "        aaa=pd.isnull(processed_dataframe[column])\n",
    "        indices_nan = np.where(np.asarray(aaa)==True)[0]\n",
    "        processed_dataframe = processed_dataframe.reset_index(drop=True)\n",
    "        processed_dataframe= processed_dataframe.drop(indices_nan)\n",
    "\n",
    "print(\"Nan in columns after removing rows \\n\",processed_dataframe.isnull().sum())"
   ]
  },
  {
   "cell_type": "code",
   "execution_count": 6,
   "id": "08cbed08",
   "metadata": {},
   "outputs": [
    {
     "name": "stdout",
     "output_type": "stream",
     "text": [
      "<class 'pandas.core.frame.DataFrame'>\n",
      "Int64Index: 15104 entries, 0 to 15123\n",
      "Data columns (total 22 columns):\n",
      " #   Column          Non-Null Count  Dtype  \n",
      "---  ------          --------------  -----  \n",
      " 0   name            15104 non-null  object \n",
      " 1   a               15104 non-null  float64\n",
      " 2   e               15104 non-null  float64\n",
      " 3   i               15104 non-null  float64\n",
      " 4   om              15104 non-null  float64\n",
      " 5   w               15104 non-null  float64\n",
      " 6   q               15104 non-null  float64\n",
      " 7   ad              15104 non-null  float64\n",
      " 8   per_y           15104 non-null  float64\n",
      " 9   data_arc        15104 non-null  float64\n",
      " 10  condition_code  15104 non-null  object \n",
      " 11  n_obs_used      15104 non-null  int64  \n",
      " 12  H               15104 non-null  float64\n",
      " 13  neo             15104 non-null  object \n",
      " 14  pha             15104 non-null  object \n",
      " 15  diameter        15104 non-null  object \n",
      " 16  albedo          15104 non-null  float64\n",
      " 17  moid            15104 non-null  float64\n",
      " 18  class           15104 non-null  object \n",
      " 19  n               15104 non-null  float64\n",
      " 20  per             15104 non-null  float64\n",
      " 21  ma              15104 non-null  float64\n",
      "dtypes: float64(15), int64(1), object(6)\n",
      "memory usage: 2.7+ MB\n"
     ]
    }
   ],
   "source": [
    "pdf = processed_dataframe \n",
    "pdf.info()"
   ]
  },
  {
   "cell_type": "markdown",
   "id": "0ca1c48b",
   "metadata": {},
   "source": [
    "# Principal Component Analysis"
   ]
  },
  {
   "cell_type": "markdown",
   "id": "1df9d4a7",
   "metadata": {},
   "source": [
    "Data Preprocessing"
   ]
  },
  {
   "cell_type": "code",
   "execution_count": 7,
   "id": "a8b47438",
   "metadata": {},
   "outputs": [
    {
     "data": {
      "text/plain": [
       "array([[ 0.07518342, -0.89123605,  0.49454868, ..., -0.33520613,\n",
       "         0.01357477, -0.99237178],\n",
       "       [ 0.07969398,  1.30357422,  4.64263792, ..., -0.34202072,\n",
       "         0.01586938, -1.1642465 ],\n",
       "       [-0.06148969,  1.6819508 ,  0.904333  , ..., -0.11866549,\n",
       "        -0.0553015 , -1.40518202],\n",
       "       ...,\n",
       "       [-0.25846334, -1.00961949,  0.68691544, ...,  0.23161138,\n",
       "        -0.15231053, -0.81096361],\n",
       "       [ 0.53095415,  1.50826406,  0.56686995, ..., -0.93383458,\n",
       "         0.25221093,  0.72311117],\n",
       "       [ 0.53750223,  0.4661009 ,  3.23807661, ..., -0.94127602,\n",
       "         0.25573729,  0.69599987]])"
      ]
     },
     "execution_count": 7,
     "metadata": {},
     "output_type": "execute_result"
    }
   ],
   "source": [
    "scaling = pdf[['a','e', 'i', 'om', 'w', 'q', 'ad', 'per_y', 'data_arc', 'H', 'albedo','moid', 'n', 'per', 'ma']]\n",
    "StandardScaler().fit_transform(scaling)"
   ]
  },
  {
   "cell_type": "code",
   "execution_count": 14,
   "id": "6fc94b40",
   "metadata": {},
   "outputs": [],
   "source": [
    "pca = PCA()\n",
    "pca.fit(scaling)\n",
    "pca_data = pca.transform(scaling)\n",
    "per_var = np.round(pca.explained_variance_ratio_ * 100, decimals = 1)\n",
    "labels = ['PC' + str(x) for x in range(1, len(per_var) +1 )]\n"
   ]
  },
  {
   "cell_type": "markdown",
   "id": "a9d5367c",
   "metadata": {},
   "source": [
    "Calculating the variation percentage that explains by each principal component"
   ]
  },
  {
   "cell_type": "code",
   "execution_count": 15,
   "id": "027d6bc3",
   "metadata": {},
   "outputs": [
    {
     "data": {
      "image/png": "[encoded data removed]",
      "text/plain": [
       "<Figure size 432x288 with 1 Axes>"
      ]
     },
     "metadata": {
      "needs_background": "light"
     },
     "output_type": "display_data"
    }
   ],
   "source": [
    "plt.bar(x = range(1, len(per_var)+1), height = per_var, tick_label = labels)\n",
    "plt.ylabel('Percentage of Explained Variance')\n",
    "plt.xlabel('Principal Component')\n",
    "plt.title('Scree Plot')\n",
    "plt.show()"
   ]
  },
  {
   "cell_type": "markdown",
   "id": "e21e3c2f",
   "metadata": {},
   "source": [
    "PCA plot"
   ]
  },
  {
   "cell_type": "code",
   "execution_count": 16,
   "id": "eeb3bce3",
   "metadata": {},
   "outputs": [
    {
     "data": {
      "image/png": "[encoded data removed]",
      "text/plain": [
       "<Figure size 432x288 with 1 Axes>"
      ]
     },
     "metadata": {
      "needs_background": "light"
     },
     "output_type": "display_data"
    }
   ],
   "source": [
    "pca_df = pd.DataFrame(pca_data, columns = labels)\n",
    "\n",
    "plt.scatter(pca_df.PC1, pca_df.PC2)\n",
    "plt.title('Asteroid PCA Graph')\n",
    "plt.xlabel('PC1 - {0}%'.format(per_var[0]))\n",
    "plt.ylabel('PC2 - {0}%'.format(per_var[1]))\n",
    "\n",
    "## Adding sample names\n",
    "for sample in pca_df.index:\n",
    "    plt.annotate(sample, (pca_df.PC1.loc[sample], pca_df.PC2.loc[sample]))\n",
    "    \n",
    "plt.show()"
   ]
  },
  {
   "cell_type": "markdown",
   "id": "ef9a80bd",
   "metadata": {},
   "source": [
    "The Principal Component Analysis is able to cluster the sample. Principal component one can describe 98.4% variance while principal component 2 can only describe 1.6%. "
   ]
  },
  {
   "cell_type": "code",
   "execution_count": 17,
   "id": "4917404d",
   "metadata": {},
   "outputs": [
    {
     "data": {
      "text/plain": [
       "0    0.999999\n",
       "dtype: float64"
      ]
     },
     "execution_count": 17,
     "metadata": {},
     "output_type": "execute_result"
    }
   ],
   "source": [
    "pca.fit(scaling)\n",
    "pca.transform(scaling)\n",
    "loading_scores = pd.DataFrame(pca.components_[0])\n",
    "loading_scores.max()"
   ]
  },
  {
   "cell_type": "markdown",
   "id": "461ed81b",
   "metadata": {},
   "source": [
    "Regarding to the loading scores, the feature 'per_y' or orbital period plays a great role in separating the samples."
   ]
  },
  {
   "cell_type": "markdown",
   "id": "09fc63aa",
   "metadata": {},
   "source": [
    "# Ridge and Lasso Regression\n",
    "\n",
    "The dataset proposes a model to predict asteroid diameter."
   ]
  },
  {
   "cell_type": "code",
   "execution_count": 8,
   "id": "e185dca5",
   "metadata": {},
   "outputs": [],
   "source": [
    "## loading the packages\n",
    "from sklearn.linear_model import LinearRegression\n",
    "from sklearn.preprocessing import PolynomialFeatures\n",
    "from sklearn.pipeline import Pipeline\n",
    "\n",
    "# packages for MSE and train-test split\n",
    "from sklearn.metrics import mean_squared_error\n",
    "from sklearn.model_selection import train_test_split"
   ]
  },
  {
   "cell_type": "markdown",
   "id": "07594e62",
   "metadata": {},
   "source": [
    "Before going to ridge and lasso regression, we try to use Polynomial Regression."
   ]
  },
  {
   "cell_type": "code",
   "execution_count": 9,
   "id": "3d22baa5",
   "metadata": {},
   "outputs": [],
   "source": [
    "degree = 15\n",
    "X = np.c_[pdf[\"diameter\"]]\n",
    "y = np.c_[pdf[\"per_y\"]]\n",
    "train_errors = []\n",
    "val_errors = []\n",
    "\n",
    "# train_test split\n",
    "X_train, X_val, y_train, y_val = train_test_split(X, y, test_size=0.1)"
   ]
  },
  {
   "cell_type": "code",
   "execution_count": 10,
   "id": "edf01c61",
   "metadata": {},
   "outputs": [
    {
     "data": {
      "image/png": "[encoded data removed]",
      "text/plain": [
       "<Figure size 432x288 with 1 Axes>"
      ]
     },
     "metadata": {
      "needs_background": "light"
     },
     "output_type": "display_data"
    },
    {
     "data": {
      "image/png": "[encoded data removed]",
      "text/plain": [
       "<Figure size 432x288 with 1 Axes>"
      ]
     },
     "metadata": {
      "needs_background": "light"
     },
     "output_type": "display_data"
    }
   ],
   "source": [
    "for d in range(1, degree):\n",
    "    polyfeature = PolynomialFeatures(degree=d, include_bias=False)\n",
    "    lin_reg = LinearRegression()\n",
    "    polynomial_regression = Pipeline([\n",
    "        (\"poly_features\", polyfeature),\n",
    "        (\"lin_reg\", lin_reg),\n",
    "    ])\n",
    "    polynomial_regression.fit(X_train, y_train)\n",
    "    y_train_predict = polynomial_regression.predict(X_train)\n",
    "    y_test_predict = polynomial_regression.predict(X_val)\n",
    "    # training and test errors\n",
    "    train_errors.append(mean_squared_error(y_train, y_train_predict))\n",
    "    val_errors.append(mean_squared_error(y_val, y_test_predict))\n",
    "    \n",
    "polyfeature = PolynomialFeatures(degree=3, include_bias=False)\n",
    "lin_reg = LinearRegression()\n",
    "polynomial_regression = Pipeline ([\n",
    "    (\"poly_features\", polyfeature),\n",
    "    (\"lin_reg\", lin_reg),\n",
    "])\n",
    "polynomial_regression.fit(X, y)\n",
    "y_predict = polynomial_regression.predict(X)\n",
    "\n",
    "plt.plot(y_predict, 'r')\n",
    "plt.plot(y, 'b')\n",
    "plt.show()\n",
    "    \n",
    "# the plot\n",
    "plt.plot(range(1, degree), train_errors, \"-+\", linewidth = 2, markersize = 12, label=\"train\")\n",
    "plt.plot(range(1, degree), val_errors, \"-+\", linewidth=3, markersize = 12, label = \"test\")\n",
    "plt.legend(loc=\"upper right\", fontsize = 14)\n",
    "plt.xlabel(\"Degree of polynomial\", fontsize = 14)\n",
    "plt.ylabel(\"MSE\", fontsize = 14)\n",
    "plt.title('Polynomial Regression Error for diameter vs orbital period')\n",
    "plt.grid(True)\n",
    "plt.show()"
   ]
  },
  {
   "cell_type": "code",
   "execution_count": 11,
   "id": "3909a1d3",
   "metadata": {},
   "outputs": [],
   "source": [
    "from sklearn.preprocessing import StandardScaler\n",
    "from sklearn.linear_model import Ridge"
   ]
  },
  {
   "cell_type": "markdown",
   "id": "fef3b0d9",
   "metadata": {},
   "source": [
    "Build the ridge regression using different lambda values."
   ]
  },
  {
   "cell_type": "code",
   "execution_count": 12,
   "id": "31437f14",
   "metadata": {},
   "outputs": [],
   "source": [
    "X_dummy = pd.get_dummies(data = pdf, drop_first = True)\n",
    "X_dummy.head()\n",
    "y = pdf[\"diameter\"]"
   ]
  },
  {
   "cell_type": "code",
   "execution_count": null,
   "id": "ba08080d",
   "metadata": {},
   "outputs": [],
   "source": [
    "scaler = StandardScaler()\n",
    "X_scaled = scaler.fit_transform(X_dummy)\n",
    "lin_reg_2b = LinearRegression()\n",
    "lin_reg_2b.fit(X_scaled, y)\n",
    "print(lin_reg_2b.coef_)"
   ]
  },
  {
   "cell_type": "code",
   "execution_count": null,
   "id": "5a449a1e",
   "metadata": {},
   "outputs": [],
   "source": [
    "ridge_coef = []\n",
    "alphas = np.arange(0, 10, 0.2)\n",
    "\n",
    "for alpha in alphas:\n",
    "    ridge_reg = Ridge(alpha=alpha, random_state = 47)\n",
    "    ridge_reg.fit(X_scaled, y)\n",
    "    ridge_coef.append(ridge_reg.coef_[0])\n",
    "\n",
    "ridge_coef2 = np.array(ridge_coef)\n",
    "ridge_coef2.shape\n",
    "\n",
    "nFeatures = X_scaled.shape[1]\n",
    "cmap = mpl.cm.tab10(np.linspace(0, 1, nFeatures))"
   ]
  },
  {
   "cell_type": "markdown",
   "id": "14e81ab6",
   "metadata": {},
   "source": [
    "Plot the figures"
   ]
  },
  {
   "cell_type": "code",
   "execution_count": null,
   "id": "40de7658",
   "metadata": {},
   "outputs": [],
   "source": [
    "plt.figure(figsize=(7, 7))\n",
    "for i in range(nFeatures):\n",
    "    plt.plot(alphas, ridge_coef2[:, i], color=cmap[i,:], label=X_dummy.columns[i])\n",
    "plt.xlabel(\"$\\lambda$\", fontsize = 18)\n",
    "plt.ylabel(\"$\\hat{w}^{ridge}$  \", rotation=0, fontsize = 18)\n",
    "plt.title(\"Ridge regression coefficients\")\n",
    "plt.legend(loc=2, fontsize=10)\n",
    "plt.axis([0, 10, -6, 9])\n",
    "plt.show()"
   ]
  },
  {
   "cell_type": "markdown",
   "id": "57641df0",
   "metadata": {},
   "source": [
    "Test error for the ridge regression"
   ]
  },
  {
   "cell_type": "code",
   "execution_count": null,
   "id": "9c040971",
   "metadata": {},
   "outputs": [],
   "source": [
    "alphas = np.arange(0, 10, 0.2)\n",
    "test_error = []\n",
    "\n",
    "for alpha in alphas:\n",
    "    ridge_reg = Ridge(alpha=alpha, random_state=42)\n",
    "    ridge_reg.fit(x_train_scaled, y_train)\n",
    "    ypred = ridge_reg.predict(x_test_scaled)\n",
    "    test_error.append(mean_squared_error(y_test, ypred))\n",
    "\n",
    "indA = np.argmin(test_error)\n",
    "print('Minimum test error: ', test_error[indA], ' at alpha equals:', alphas[indA])\n",
    "\n",
    "plt.plot(alphas, test_error)\n",
    "plt.show()"
   ]
  },
  {
   "cell_type": "markdown",
   "id": "5b94b33e",
   "metadata": {},
   "source": [
    "Lasso Regression"
   ]
  },
  {
   "cell_type": "code",
   "execution_count": null,
   "id": "28d636ea",
   "metadata": {},
   "outputs": [],
   "source": [
    "alphas = np.arange(0.05, 4, 0.05)\n",
    "test_error = []\n",
    "\n",
    "for alpha in alphas:\n",
    "    lasso_reg = Lasso(alpha=alpha, random_state=42, max_iter = 1e4)\n",
    "    lasso_reg.fit(x_train_scaled, y_train)\n",
    "    ypred = lasso_reg.predict(x_test_scaled)\n",
    "    test_error.append(mean_squared_error(y_test, ypred))  \n",
    "    \n",
    "indA = np.argmin(test_error)\n",
    "print('Minimum test error: ', test_error[indA], ' at alpha equals:', alphas[indA])\n",
    "\n",
    "plt.plot(alphas, test_error)\n",
    "plt.show()\n",
    "\n",
    "# Normalising data to be calculated in CV error\n",
    "from sklearn.model_selection import KFold\n",
    "\n",
    "for alpha in alphas:\n",
    "    kfold_err = []\n",
    "    kf = KFold(n_splits=5, shuffle=True, random_state = 42)\n",
    "    kf.get_n_splits(X)\n",
    "    for train_index, test_index in kf.split(X):\n",
    "        X_train, X_test = X[train_index], X[test_index]\n",
    "        y_train, y_test = y[train_index], y[test_index]\n"
   ]
  },
  {
   "cell_type": "markdown",
   "id": "fe2af77e",
   "metadata": {},
   "source": [
    "The best predictor for lasso model is defined by the code below."
   ]
  },
  {
   "cell_type": "code",
   "execution_count": null,
   "id": "983b5240",
   "metadata": {},
   "outputs": [],
   "source": [
    "lasso_reg2 = Lasso(alpha=2.2, random_state=42)\n",
    "lasso_reg2.fit(x_train_scaled, y_train)  \n",
    "lasso_reg2.coef_  "
   ]
  }
 ],
 "metadata": {
  "kernelspec": {
   "display_name": "Python 3 (ipykernel)",
   "language": "python",
   "name": "python3"
  },
  "language_info": {
   "codemirror_mode": {
    "name": "ipython",
    "version": 3
   },
   "file_extension": ".py",
   "mimetype": "text/x-python",
   "name": "python",
   "nbconvert_exporter": "python",
   "pygments_lexer": "ipython3",
   "version": "3.7.11"
  }
 },
 "nbformat": 4,
 "nbformat_minor": 5
}
